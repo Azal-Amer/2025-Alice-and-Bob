{
 "cells": [
  {
   "cell_type": "code",
   "execution_count": 1,
   "metadata": {},
   "outputs": [],
   "source": [
    "import dynamiqs as dq\n",
    "import jax.numpy as jnp\n",
    "import numpy as np"
   ]
  },
  {
   "cell_type": "markdown",
   "metadata": {},
   "source": [
    "Define units:"
   ]
  },
  {
   "cell_type": "code",
   "execution_count": 2,
   "metadata": {},
   "outputs": [],
   "source": [
    "GHz = 1.0\n",
    "MHz = 1e-3 * GHz\n",
    "kHz = 1e-3 * MHz"
   ]
  },
  {
   "cell_type": "markdown",
   "metadata": {},
   "source": [
    "Define system parameters:"
   ]
  },
  {
   "cell_type": "code",
   "execution_count": 3,
   "metadata": {},
   "outputs": [],
   "source": [
    "omega_a_0 = 5.26 * GHz # bare resonant frequency of mode a\n",
    "omega_b_0 = 7.7 * GHz # bare resonant frequency of mode b\n",
    "\n",
    "phi_a = 0.06 # zero-point fluctuation phase of mode a\n",
    "phi_b = 0.29 # zero-point fluctuation phase of mode a\n",
    "e_J = 12.03 * GHz # Josephson energy\n",
    "delta_e_J = 0.47 * GHz\n",
    "\n",
    "kappa_a = 9.3 * kHz # relaxation rate of mode a\n",
    "kappa_b = 2.6 * MHz # relaxation rate of mode b\n",
    "\n",
    "g2_target = 0.763*MHz # target g2 used to specify driving strength of ATS\n",
    "alpha_target = np.sqrt(5.0) # target alpha, (or equivalently specify number of photons)\n",
    "\n",
    "#driving strengths:\n",
    "epsilon_p = 2*g2_target/(e_J * phi_a**2 * phi_b) # flux pump power\n",
    "epsilon_d = -alpha_target**2 * np.conj(g2_target) # buffer pump power"
   ]
  },
  {
   "cell_type": "code",
   "execution_count": 4,
   "metadata": {},
   "outputs": [
    {
     "data": {
      "text/plain": [
       "0.12150339349582621"
      ]
     },
     "execution_count": 4,
     "metadata": {},
     "output_type": "execute_result"
    }
   ],
   "source": [
    "epsilon_p"
   ]
  },
  {
   "cell_type": "code",
   "execution_count": 5,
   "metadata": {},
   "outputs": [
    {
     "data": {
      "text/plain": [
       "-0.0038150000000000007"
      ]
     },
     "execution_count": 5,
     "metadata": {},
     "output_type": "execute_result"
    }
   ],
   "source": [
    "epsilon_d"
   ]
  },
  {
   "cell_type": "markdown",
   "metadata": {},
   "source": [
    "### Compute AC Stark shift"
   ]
  },
  {
   "cell_type": "code",
   "execution_count": 6,
   "metadata": {},
   "outputs": [],
   "source": [
    "#initialization:\n",
    "delta_a, delta_b = (0.0,0.0) # set initial AC Stark shifts to zero\n",
    "omega_p = 2*omega_a_0 - omega_b_0 # initial frequency matching condition\n",
    "\n",
    "#recursion loop to compute AC Stark shift:\n",
    "rec_depth = 30\n",
    "for i in range(rec_depth):\n",
    "    #compute xi for mode a and b:\n",
    "    alpha_1 = 1j*e_J*epsilon_p*phi_a / (kappa_a/2 + 1j*(omega_a_0 - omega_p))\n",
    "    alpha_2 = 1j*e_J*epsilon_p*phi_a / (kappa_a/2 + 1j*(omega_a_0 + omega_p))\n",
    "\n",
    "    beta_1 = 1j*e_J*epsilon_p*phi_b / (kappa_b/2 + 1j*(omega_b_0 - omega_p))\n",
    "    beta_2 = 1j*e_J*epsilon_p*phi_b / (kappa_b/2 + 1j*(omega_b_0 + omega_p))\n",
    "\n",
    "    pre = (np.real(alpha_1) + np.real(alpha_2)) * phi_a \\\n",
    "    + (np.real(beta_1) + np.real(beta_2)) * phi_b\n",
    "    #compute AC Stark shifts:\n",
    "    delta_a = 1/3*e_J * epsilon_p * phi_a**2 * pre \n",
    "    delta_b = 1/3*e_J * epsilon_p * phi_b**2 * pre \n",
    "\n",
    "    #recompute frequencies\n",
    "    omega_a = omega_a_0 - 2*delta_e_J*phi_a**2 + delta_a \n",
    "    omega_b = omega_b_0 - 2*delta_e_J*phi_b**2 + delta_b \n",
    "    omega_p = 2*omega_a - omega_b\n",
    "\n",
    "omega_d = omega_b"
   ]
  },
  {
   "cell_type": "code",
   "execution_count": 7,
   "metadata": {},
   "outputs": [
    {
     "name": "stdout",
     "output_type": "stream",
     "text": [
      "Updated omega_a = 5.2566862215107335\n",
      "Updated omega_b = 7.622586452514629\n",
      "Updated omega_p = 2.8907859905068376\n",
      "Buffer drive frequency omega_d = 7.622586452514629\n"
     ]
    }
   ],
   "source": [
    "print(\"Updated omega_a =\", omega_a)\n",
    "print(\"Updated omega_b =\", omega_b)\n",
    "print(\"Updated omega_p =\", omega_p)\n",
    "print(\"Buffer drive frequency omega_d =\", omega_d)\n"
   ]
  },
  {
   "cell_type": "markdown",
   "metadata": {},
   "source": [
    "### Construct Hilbert space operators"
   ]
  },
  {
   "cell_type": "code",
   "execution_count": 8,
   "metadata": {},
   "outputs": [],
   "source": [
    "#Fock-space dimension in the memory mode:\n",
    "n_fock_a = 30\n",
    "#Fock-space dimension in the buffer mode:\n",
    "n_fock_b = 7\n",
    "\n",
    "#annihilation operators:\n",
    "a, b = dq.destroy(n_fock_a, n_fock_b)\n",
    "\n",
    "#identity operator:\n",
    "identity = dq.tensor(dq.eye(n_fock_a), dq.eye(n_fock_b))"
   ]
  },
  {
   "cell_type": "markdown",
   "metadata": {},
   "source": [
    "Define ATS driving term"
   ]
  },
  {
   "cell_type": "code",
   "execution_count": 9,
   "metadata": {},
   "outputs": [],
   "source": [
    "# define the ATS driving term\n",
    "eps_ats = lambda t: epsilon_p*jnp.cos(omega_p*t)"
   ]
  },
  {
   "cell_type": "markdown",
   "metadata": {},
   "source": [
    "Define time-dependent displaced-rotated operator:"
   ]
  },
  {
   "cell_type": "code",
   "execution_count": 11,
   "metadata": {},
   "outputs": [],
   "source": [
    "def op_rot_displaced(t, op, omega_rot, dis):\n",
    "    return op*jnp.exp(-1j*omega_rot*t) + dis * identity"
   ]
  },
  {
   "cell_type": "markdown",
   "metadata": {},
   "source": [
    "### Define time-dependent Hamiltonian in the displaced-rotated frame\n",
    "The Hamiltonian consists of 5 parts:\n",
    "\n",
    "`h_0`: bare non-interacting Hamiltonian\n",
    "\n",
    "`h_ATS`: Hamiltonian of the ATS\n",
    "\n",
    "`h_buffer_drive`: Hamiltonian of the buffer drive\n",
    "\n",
    "`h_rot`: Term from derivative of rotating frame\n",
    "\n",
    "`h_dis`: Term from derivative of displaced frame"
   ]
  },
  {
   "cell_type": "code",
   "execution_count": 12,
   "metadata": {},
   "outputs": [],
   "source": [
    "# For the rotating frame, we choose:\n",
    "omega_rot_a = omega_a_0  # for mode a, we rotate at its bare frequency (or updated frequency)\n",
    "omega_rot_b = omega_d    # for mode b (buffer), choose the drive frequency (omega_d)\n",
    "def hamiltonian_rotating_displaced(t):\n",
    "\n",
    "    #compute displacement fields\n",
    "    alpha_t = alpha_1*jnp.exp(-1j*omega_p*t) + alpha_2*jnp.exp(1j*omega_p*t)\n",
    "    beta_t = beta_1*jnp.exp(-1j*omega_p*t) + beta_2*jnp.exp(1j*omega_p*t)\n",
    "\n",
    "\n",
    "    # the displaced rotating frame introduces a drive and detuning\n",
    "    d_alpha_t = 1j*omega_p * (alpha_2*jnp.exp(1j*omega_p*t) - alpha_1*jnp.exp(-1j*omega_p*t))\n",
    "    d_beta_t = 1j*omega_p * (beta_2*jnp.exp(1j*omega_p*t) - beta_1*jnp.exp(-1j*omega_p*t))\n",
    "\n",
    "\n",
    "    #compute rotated displaced operators:\n",
    "    # These are obtained by applying our op_rot_displaced function.\n",
    "    a_f    = op_rot_displaced(t, a,    omega_rot_a, alpha_t)\n",
    "    adag_f = op_rot_displaced(t, a.dag(), omega_rot_a, jnp.conj(alpha_t))\n",
    "    b_f    = op_rot_displaced(t, b,    omega_rot_b, beta_t)\n",
    "    bdag_f = op_rot_displaced(t, b.dag(), omega_rot_b, jnp.conj(beta_t))\n",
    "\n",
    "    #displaced rotated phase operator\n",
    "    phi_f = phi_a*(a_f + adag_f) + phi_b*(b_f + bdag_f)\n",
    "\n",
    "    #linear term\n",
    "    h_0 = omega_a_0 * adag_f @ a_f + omega_b_0 * bdag_f @ b_f\n",
    "    \n",
    "    #term from derivative of rotating frame\n",
    "    h_rot = - omega_rot_a * dq.dag(a) @ a  - omega_rot_b * dq.dag(b) @ b\n",
    "    \n",
    "    #term from derivative of displaced frame\n",
    "    h_dis =  -1j*(d_alpha_t*dq.dag(a)*jnp.exp(1j*omega_rot_a*t)-jnp.conj(d_alpha_t)*a*jnp.exp(-1j*omega_rot_a*t)) \\\n",
    "      - 1j*(d_beta_t*dq.dag(b)*jnp.exp(1j*omega_rot_b*t)-jnp.conj(d_beta_t)*b*jnp.exp(-1j*omega_rot_b*t))\n",
    "        \n",
    "\n",
    "    #ats term:\n",
    "    sinterm = jnp.sin(eps_ats(t)) * dq.sinm(phi_f)\n",
    "    costerm = jnp.cos(eps_ats(t)) * dq.cosm(phi_f)\n",
    "    h_ats = - 2*e_J*sinterm +  2*delta_e_J*costerm \n",
    "    \n",
    "    #drive on the buffer:\n",
    "    # in the rotating frame, this term is non-rotating\n",
    "    h_buffer_drive = jnp.conj(epsilon_d)*jnp.exp(1j*omega_d*t)*b_f \\\n",
    "        + epsilon_d * jnp.exp(-1j*omega_d*t) * bdag_f\n",
    "    \n",
    "    return h_0 + h_ats + h_buffer_drive + h_rot + h_dis"
   ]
  },
  {
   "cell_type": "code",
   "execution_count": 13,
   "metadata": {},
   "outputs": [
    {
     "name": "stderr",
     "output_type": "stream",
     "text": [
      "/opt/anaconda3/lib/python3.12/site-packages/equinox/_module.py:1096: UserWarning: A `SparseDIAQArray` has been converted to a `DenseQArray` while computing its matrix exponential.\n",
      "  return self.__func__(self.__self__, *args, **kwargs)\n",
      "/var/folders/dt/2zp19ypj0t7c4mhf0083mz840000gn/T/ipykernel_13023/3274938278.py:47: UserWarning: A sparse qarray has been converted to dense layout due to element-wise addition with a dense qarray.\n",
      "  return h_0 + h_ats + h_buffer_drive + h_rot + h_dis\n",
      "/opt/anaconda3/lib/python3.12/site-packages/dynamiqs/qarrays/qarray.py:481: UserWarning: A sparse qarray has been converted to dense layout due to element-wise addition with a dense qarray.\n",
      "  return self.__add__(y)\n"
     ]
    }
   ],
   "source": [
    "# Make Hamiltonian time-callable JAX function:\n",
    "H = dq.timecallable(hamiltonian_rotating_displaced)"
   ]
  },
  {
   "cell_type": "code",
   "execution_count": 14,
   "metadata": {},
   "outputs": [],
   "source": [
    "# For a direct lab–frame simulation one would use the original Hamiltonian.\n",
    "# (For brevity, here we assume that one has defined H_lab similarly, e.g., without the\n",
    "# displacement/rotation. In many cases you would simply simulate H vs. time.)\n",
    "#\n",
    "# As an example, let’s simulate the lab–frame dynamics (here we reuse H as a placeholder).\n",
    "\n",
    "# Define the collapse operators (loss in both modes)"
   ]
  },
  {
   "cell_type": "code",
   "execution_count": 18,
   "metadata": {},
   "outputs": [],
   "source": [
    "c_ops = [jnp.sqrt(kappa_a) * a, jnp.sqrt(kappa_b) * b]\n"
   ]
  },
  {
   "cell_type": "code",
   "execution_count": 19,
   "metadata": {},
   "outputs": [],
   "source": [
    "# Starting from the vacuum in both modes:\n",
    "psi0 = dq.tensor(dq.coherent(n_fock_a, 0.0), dq.coherent(n_fock_b, 0.0))"
   ]
  },
  {
   "cell_type": "code",
   "execution_count": 20,
   "metadata": {},
   "outputs": [],
   "source": [
    "# Define a time grid (here T is the total simulation time – adjust as needed)\n",
    "T = 50.0  # simulation time (in units consistent with our frequencies)\n",
    "tsave = jnp.linspace(0, T, 400)"
   ]
  },
  {
   "cell_type": "code",
   "execution_count": null,
   "metadata": {},
   "outputs": [
    {
     "name": "stderr",
     "output_type": "stream",
     "text": [
      "|▍         |   4.9% ◆ elapsed 04m18s ◆ remaining 01h47m25s"
     ]
    }
   ],
   "source": [
    "# Simulate the dynamics in the lab frame (or using H as defined)\n",
    "res_lab = dq.mesolve(H, c_ops, psi0, tsave)\n",
    "\n",
    "# Plot the Wigner function evolution for mode a (memory)\n",
    "dq.plot.wigner_gif(res_lab.states, fps=24)"
   ]
  }
 ],
 "metadata": {
  "kernelspec": {
   "display_name": "base",
   "language": "python",
   "name": "python3"
  },
  "language_info": {
   "codemirror_mode": {
    "name": "ipython",
    "version": 3
   },
   "file_extension": ".py",
   "mimetype": "text/x-python",
   "name": "python",
   "nbconvert_exporter": "python",
   "pygments_lexer": "ipython3",
   "version": "3.12.4"
  }
 },
 "nbformat": 4,
 "nbformat_minor": 2
}
