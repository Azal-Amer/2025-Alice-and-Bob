{
 "cells": [
  {
   "cell_type": "code",
   "execution_count": 8,
   "metadata": {},
   "outputs": [],
   "source": [
    "import dynamiqs as dq\n",
    "import jax\n",
    "import jax.numpy as jnp # the JAX version of numpy\n",
    "from matplotlib import pyplot as plt"
   ]
  },
  {
   "cell_type": "markdown",
   "metadata": {},
   "source": [
    "$$\n",
    "\\begin{aligned}\n",
    "\\hat{H} &= \\hat{H}_{\\mathrm{2ph}} + \\hat{H}_d,\\qquad \\mathrm{with}\\\\\n",
    "\\hat{H}_{\\mathrm{2ph}} &= g_2 {{}\\hat{a}^\\dagger}^2 \\hat{b} + g_2^* \\hat{a}^2 \\hat{b}^\\dagger,\\\\\n",
    "\\hat{H}_d &= \\epsilon_d^* \\hat{b} + \\epsilon_d \\hat{b}^\\dagger.\n",
    "\\end{aligned}\n",
    "$$"
   ]
  },
  {
   "cell_type": "code",
   "execution_count": 9,
   "metadata": {},
   "outputs": [
    {
     "ename": "ValueError",
     "evalue": "Qarrays have incompatible Hilbert space dimensions. Got (20,) and (5,).",
     "output_type": "error",
     "traceback": [
      "\u001b[0;31m---------------------------------------------------------------------------\u001b[0m",
      "\u001b[0;31mValueError\u001b[0m                                Traceback (most recent call last)",
      "Cell \u001b[0;32mIn[9], line 12\u001b[0m\n\u001b[1;32m     10\u001b[0m eps \u001b[38;5;241m=\u001b[39m \u001b[38;5;241m-\u001b[39m\u001b[38;5;241m4\u001b[39m\n\u001b[1;32m     11\u001b[0m kap \u001b[38;5;241m=\u001b[39m \u001b[38;5;241m10\u001b[39m\n\u001b[0;32m---> 12\u001b[0m H2ph \u001b[38;5;241m=\u001b[39m \u001b[43mg2\u001b[49m\u001b[38;5;241;43m*\u001b[39;49m\u001b[43madag\u001b[49m\u001b[38;5;129;43m@adag\u001b[39;49m\u001b[38;5;129;43m@b\u001b[39;49m\u001b[38;5;241m+\u001b[39mdq\u001b[38;5;241m.\u001b[39mdag(g2)\u001b[38;5;129m@a\u001b[39m\u001b[38;5;129m@adag\u001b[39m\u001b[38;5;129m@bdag\u001b[39m\n\u001b[1;32m     13\u001b[0m Hd \u001b[38;5;241m=\u001b[39m dq\u001b[38;5;241m.\u001b[39mdag(eps)\u001b[38;5;129m@b\u001b[39m\u001b[38;5;241m+\u001b[39meps\u001b[38;5;129m@bdag\u001b[39m\n\u001b[1;32m     14\u001b[0m \u001b[38;5;66;03m# With this, we run into a dimensionality problem\u001b[39;00m\n",
      "File \u001b[0;32m~/Documents/Obsidian Vault/Personal/Project Notes/Hackathon/iQuHack/lib/python3.12/site-packages/dynamiqs/qarrays/sparsedia_qarray.py:279\u001b[0m, in \u001b[0;36mSparseDIAQArray.__matmul__\u001b[0;34m(self, y)\u001b[0m\n\u001b[1;32m    278\u001b[0m \u001b[38;5;28;01mdef\u001b[39;00m\u001b[38;5;250m \u001b[39m\u001b[38;5;21m__matmul__\u001b[39m(\u001b[38;5;28mself\u001b[39m, y: QArrayLike) \u001b[38;5;241m-\u001b[39m\u001b[38;5;241m>\u001b[39m QArray:\n\u001b[0;32m--> 279\u001b[0m     \u001b[38;5;28;43msuper\u001b[39;49m\u001b[43m(\u001b[49m\u001b[43m)\u001b[49m\u001b[38;5;241;43m.\u001b[39;49m\u001b[38;5;21;43m__matmul__\u001b[39;49m\u001b[43m(\u001b[49m\u001b[43my\u001b[49m\u001b[43m)\u001b[49m\n\u001b[1;32m    281\u001b[0m     \u001b[38;5;28;01mif\u001b[39;00m \u001b[38;5;28misinstance\u001b[39m(y, SparseDIAQArray):\n\u001b[1;32m    282\u001b[0m         offsets, diags \u001b[38;5;241m=\u001b[39m matmul_sparsedia_sparsedia(\n\u001b[1;32m    283\u001b[0m             \u001b[38;5;28mself\u001b[39m\u001b[38;5;241m.\u001b[39moffsets, \u001b[38;5;28mself\u001b[39m\u001b[38;5;241m.\u001b[39mdiags, y\u001b[38;5;241m.\u001b[39moffsets, y\u001b[38;5;241m.\u001b[39mdiags\n\u001b[1;32m    284\u001b[0m         )\n",
      "File \u001b[0;32m~/Documents/Obsidian Vault/Personal/Project Notes/Hackathon/iQuHack/lib/python3.12/site-packages/dynamiqs/qarrays/qarray.py:492\u001b[0m, in \u001b[0;36mQArray.__matmul__\u001b[0;34m(self, y)\u001b[0m\n\u001b[1;32m    489\u001b[0m \u001b[38;5;129m@abstractmethod\u001b[39m\n\u001b[1;32m    490\u001b[0m \u001b[38;5;28;01mdef\u001b[39;00m\u001b[38;5;250m \u001b[39m\u001b[38;5;21m__matmul__\u001b[39m(\u001b[38;5;28mself\u001b[39m, y: QArrayLike) \u001b[38;5;241m-\u001b[39m\u001b[38;5;241m>\u001b[39m QArray \u001b[38;5;241m|\u001b[39m Array:\n\u001b[1;32m    491\u001b[0m     \u001b[38;5;28;01mif\u001b[39;00m \u001b[38;5;28misinstance\u001b[39m(y, QArray):\n\u001b[0;32m--> 492\u001b[0m         \u001b[43m_check_compatible_dims\u001b[49m\u001b[43m(\u001b[49m\u001b[38;5;28;43mself\u001b[39;49m\u001b[38;5;241;43m.\u001b[39;49m\u001b[43mdims\u001b[49m\u001b[43m,\u001b[49m\u001b[43m \u001b[49m\u001b[43my\u001b[49m\u001b[38;5;241;43m.\u001b[39;49m\u001b[43mdims\u001b[49m\u001b[43m)\u001b[49m\n\u001b[1;32m    494\u001b[0m     \u001b[38;5;28;01mif\u001b[39;00m _is_batched_scalar(y):\n\u001b[1;32m    495\u001b[0m         \u001b[38;5;28;01mraise\u001b[39;00m \u001b[38;5;167;01mTypeError\u001b[39;00m(\u001b[38;5;124m'\u001b[39m\u001b[38;5;124mAttempted matrix product between a scalar and a qarray.\u001b[39m\u001b[38;5;124m'\u001b[39m)\n",
      "File \u001b[0;32m~/Documents/Obsidian Vault/Personal/Project Notes/Hackathon/iQuHack/lib/python3.12/site-packages/dynamiqs/qarrays/qarray.py:562\u001b[0m, in \u001b[0;36m_check_compatible_dims\u001b[0;34m(dims1, dims2)\u001b[0m\n\u001b[1;32m    560\u001b[0m \u001b[38;5;28;01mdef\u001b[39;00m\u001b[38;5;250m \u001b[39m\u001b[38;5;21m_check_compatible_dims\u001b[39m(dims1: \u001b[38;5;28mtuple\u001b[39m[\u001b[38;5;28mint\u001b[39m, \u001b[38;5;241m.\u001b[39m\u001b[38;5;241m.\u001b[39m\u001b[38;5;241m.\u001b[39m], dims2: \u001b[38;5;28mtuple\u001b[39m[\u001b[38;5;28mint\u001b[39m, \u001b[38;5;241m.\u001b[39m\u001b[38;5;241m.\u001b[39m\u001b[38;5;241m.\u001b[39m]):\n\u001b[1;32m    561\u001b[0m     \u001b[38;5;28;01mif\u001b[39;00m dims1 \u001b[38;5;241m!=\u001b[39m dims2:\n\u001b[0;32m--> 562\u001b[0m         \u001b[38;5;28;01mraise\u001b[39;00m \u001b[38;5;167;01mValueError\u001b[39;00m(\n\u001b[1;32m    563\u001b[0m             \u001b[38;5;124mf\u001b[39m\u001b[38;5;124m'\u001b[39m\u001b[38;5;124mQarrays have incompatible Hilbert space dimensions. \u001b[39m\u001b[38;5;124m'\u001b[39m\n\u001b[1;32m    564\u001b[0m             \u001b[38;5;124mf\u001b[39m\u001b[38;5;124m'\u001b[39m\u001b[38;5;124mGot \u001b[39m\u001b[38;5;132;01m{\u001b[39;00mdims1\u001b[38;5;132;01m}\u001b[39;00m\u001b[38;5;124m and \u001b[39m\u001b[38;5;132;01m{\u001b[39;00mdims2\u001b[38;5;132;01m}\u001b[39;00m\u001b[38;5;124m.\u001b[39m\u001b[38;5;124m'\u001b[39m\n\u001b[1;32m    565\u001b[0m         )\n",
      "\u001b[0;31mValueError\u001b[0m: Qarrays have incompatible Hilbert space dimensions. Got (20,) and (5,)."
     ]
    }
   ],
   "source": [
    "import dynamiqs as dq\n",
    "dq.set_device('cpu')\n",
    "na = 20  # number of Fock states\n",
    "nb = 5\n",
    "a = dq.destroy(na)\n",
    "adag = dq.dag(a)\n",
    "b = dq.destroy(nb)\n",
    "bdag = dq.dag(b)\n",
    "g2 = 1\n",
    "eps = -4\n",
    "kap = 10\n",
    "H2ph = g2*adag@adag@b+dq.dag(g2)@a@adag@bdag\n",
    "Hd = dq.dag(eps)@b+eps@bdag\n",
    "# With this, we run into a dimensionality problem"
   ]
  },
  {
   "cell_type": "code",
   "execution_count": null,
   "metadata": {},
   "outputs": [],
   "source": []
  },
  {
   "cell_type": "code",
   "execution_count": 1,
   "metadata": {},
   "outputs": [
    {
     "ename": "NameError",
     "evalue": "name 'adag' is not defined",
     "output_type": "error",
     "traceback": [
      "\u001b[0;31m---------------------------------------------------------------------------\u001b[0m",
      "\u001b[0;31mNameError\u001b[0m                                 Traceback (most recent call last)",
      "Cell \u001b[0;32mIn[1], line 1\u001b[0m\n\u001b[0;32m----> 1\u001b[0m \u001b[43madag\u001b[49m\n",
      "\u001b[0;31mNameError\u001b[0m: name 'adag' is not defined"
     ]
    }
   ],
   "source": [
    "adag"
   ]
  },
  {
   "cell_type": "markdown",
   "metadata": {},
   "source": [
    "https://www.dynamiqs.org/stable/documentation/getting_started/sharp-bits.html"
   ]
  }
 ],
 "metadata": {
  "kernelspec": {
   "display_name": "iQuHack",
   "language": "python",
   "name": "python3"
  },
  "language_info": {
   "codemirror_mode": {
    "name": "ipython",
    "version": 3
   },
   "file_extension": ".py",
   "mimetype": "text/x-python",
   "name": "python",
   "nbconvert_exporter": "python",
   "pygments_lexer": "ipython3",
   "version": "3.12.7"
  }
 },
 "nbformat": 4,
 "nbformat_minor": 2
}
